{
 "cells": [
  {
   "cell_type": "code",
   "execution_count": 2,
   "id": "3c1f4a20-7c6b-4281-9b6b-a1d4d3188fc1",
   "metadata": {},
   "outputs": [
    {
     "data": {
      "text/plain": [
       "array([[60, 15,  7],\n",
       "       [10, 82, 94],\n",
       "       [74,  5,  3],\n",
       "       [ 1, 99, 78],\n",
       "       [75, 34, 40],\n",
       "       [18, 76, 69],\n",
       "       [21, 12, 44],\n",
       "       [69, 52, 13],\n",
       "       [18, 27, 38],\n",
       "       [49,  0,  9]])"
      ]
     },
     "metadata": {},
     "output_type": "display_data"
    }
   ],
   "source": [
    "import numpy as np\n",
    "from IPython.display import display\n",
    "\n",
    "my_array = np.random.randint(0, 100, size=(10, 3))\n",
    "display(my_array)\n"
   ]
  },
  {
   "cell_type": "code",
   "execution_count": null,
   "id": "be87c93c-b9a2-4ae3-947c-f87f8d017342",
   "metadata": {},
   "outputs": [],
   "source": []
  }
 ],
 "metadata": {
  "kernelspec": {
   "display_name": "Python 3 (ml)",
   "language": "python",
   "name": "ml"
  },
  "language_info": {
   "codemirror_mode": {
    "name": "ipython",
    "version": 3
   },
   "file_extension": ".py",
   "mimetype": "text/x-python",
   "name": "python",
   "nbconvert_exporter": "python",
   "pygments_lexer": "ipython3",
   "version": "3.9.23"
  }
 },
 "nbformat": 4,
 "nbformat_minor": 5
}
