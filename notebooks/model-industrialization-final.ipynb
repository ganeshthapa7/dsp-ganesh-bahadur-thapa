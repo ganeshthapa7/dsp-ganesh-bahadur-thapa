{
 "cells": [
  {
   "cell_type": "code",
   "execution_count": 1,
   "id": "9de4d09e",
   "metadata": {},
   "outputs": [
    {
     "name": "stdout",
     "output_type": "stream",
     "text": [
      "Path added successfully!\n",
      "Current working directory: /Users/ganeshbahadurthapa/Desktop/dsp-ganesh-bahadur-thapa/notebooks\n",
      "Search path includes: /Users/ganeshbahadurthapa/Desktop/dsp-ganesh-bahadur-thapa\n"
     ]
    }
   ],
   "source": [
    "import sys\n",
    "import os\n",
    "\n",
    "sys.path.append(os.path.abspath(\"..\"))\n",
    "\n",
    "print(\"Path added successfully!\")\n",
    "print(\"Current working directory:\", os.getcwd())\n",
    "print(\"Search path includes:\", os.path.abspath(\"..\"))\n"
   ]
  },
  {
   "cell_type": "code",
   "execution_count": 2,
   "id": "40a8f756",
   "metadata": {},
   "outputs": [
    {
     "name": "stderr",
     "output_type": "stream",
     "text": [
      "/Users/ganeshbahadurthapa/Desktop/dsp-ganesh-bahadur-thapa/house_prices/train.py:34: FutureWarning: A value is trying to be set on a copy of a DataFrame or Series through chained assignment using an inplace method.\n",
      "The behavior will change in pandas 3.0. This inplace method will never work because the intermediate object on which we are setting values always behaves as a copy.\n",
      "\n",
      "For example, when doing 'df[col].method(value, inplace=True)', try using 'df.method({col: value}, inplace=True)' or df[col] = df[col].method(value) instead, to perform the operation inplace on the original object.\n",
      "\n",
      "\n",
      "  X_train[col].fillna(\"Unknown\", inplace=True)\n",
      "/Users/ganeshbahadurthapa/Desktop/dsp-ganesh-bahadur-thapa/house_prices/train.py:35: FutureWarning: A value is trying to be set on a copy of a DataFrame or Series through chained assignment using an inplace method.\n",
      "The behavior will change in pandas 3.0. This inplace method will never work because the intermediate object on which we are setting values always behaves as a copy.\n",
      "\n",
      "For example, when doing 'df[col].method(value, inplace=True)', try using 'df.method({col: value}, inplace=True)' or df[col] = df[col].method(value) instead, to perform the operation inplace on the original object.\n",
      "\n",
      "\n",
      "  X_test[col].fillna(\"Unknown\", inplace=True)\n"
     ]
    },
    {
     "name": "stdout",
     "output_type": "stream",
     "text": [
      "📊 RMSE: 29501.67\n",
      "Model, encoder, and scaler saved in 'models/' folder.\n",
      "{'rmse': 29501.667554467087}\n"
     ]
    }
   ],
   "source": [
    "import pandas as pd\n",
    "from house_prices.train import build_model\n",
    "\n",
    "training_df = pd.read_csv('../data/train.csv')\n",
    "performance = build_model(training_df)\n",
    "print(performance)\n"
   ]
  },
  {
   "cell_type": "code",
   "execution_count": 3,
   "id": "12329c02",
   "metadata": {},
   "outputs": [
    {
     "name": "stdout",
     "output_type": "stream",
     "text": [
      "Predictions completed successfully.\n",
      "[130169.5  152747.5  176655.87 191499.44 205035.56 184561.19 170171.49\n",
      " 177533.29 181315.5  121715.83]\n"
     ]
    },
    {
     "name": "stderr",
     "output_type": "stream",
     "text": [
      "/Users/ganeshbahadurthapa/Desktop/dsp-ganesh-bahadur-thapa/house_prices/preprocess.py:12: FutureWarning: A value is trying to be set on a copy of a DataFrame or Series through chained assignment using an inplace method.\n",
      "The behavior will change in pandas 3.0. This inplace method will never work because the intermediate object on which we are setting values always behaves as a copy.\n",
      "\n",
      "For example, when doing 'df[col].method(value, inplace=True)', try using 'df.method({col: value}, inplace=True)' or df[col] = df[col].method(value) instead, to perform the operation inplace on the original object.\n",
      "\n",
      "\n",
      "  df[col].fillna(\"Unknown\", inplace=True)\n"
     ]
    }
   ],
   "source": [
    "import pandas as pd\n",
    "from house_prices.inference import make_predictions\n",
    "\n",
    "inference_df = pd.read_csv('../data/test.csv')\n",
    "predictions = make_predictions(inference_df)\n",
    "print(predictions[:10])\n"
   ]
  }
 ],
 "metadata": {
  "kernelspec": {
   "display_name": "base",
   "language": "python",
   "name": "python3"
  },
  "language_info": {
   "codemirror_mode": {
    "name": "ipython",
    "version": 3
   },
   "file_extension": ".py",
   "mimetype": "text/x-python",
   "name": "python",
   "nbconvert_exporter": "python",
   "pygments_lexer": "ipython3",
   "version": "3.13.5"
  }
 },
 "nbformat": 4,
 "nbformat_minor": 5
}
